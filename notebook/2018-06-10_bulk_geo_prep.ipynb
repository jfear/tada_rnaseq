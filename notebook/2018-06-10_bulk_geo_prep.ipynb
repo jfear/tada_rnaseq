{
 "cells": [
  {
   "cell_type": "markdown",
   "metadata": {},
   "source": [
    "# Bulk GEO Prep"
   ]
  },
  {
   "cell_type": "code",
   "execution_count": 4,
   "metadata": {},
   "outputs": [],
   "source": [
    "import os\n",
    "import sys\n",
    "from pathlib import Path\n",
    "import hashlib\n",
    "import shutil\n",
    "\n",
    "from IPython.display import display, HTML, Markdown\n",
    "import numpy as np\n",
    "import pandas as pd\n",
    "\n",
    "import matplotlib as mpl\n",
    "import matplotlib.pyplot as plt\n",
    "import seaborn as sns"
   ]
  },
  {
   "cell_type": "code",
   "execution_count": 5,
   "metadata": {},
   "outputs": [],
   "source": [
    "samples = [\n",
    "    'A1_whole_male_tub_dam_rep1',\n",
    "    'A10_whole_female_tub_polII_rep1',\n",
    "    'A11_whole_female_tub_polII_rep2',\n",
    "    'A12_whole_female_tub_polII_rep3',\n",
    "    'A2_whole_male_tub_dam_rep2',\n",
    "    'A3_whole_male_tub_dam_rep3',\n",
    "    'A4_whole_male_tub_polII_rep1',\n",
    "    'A5_whole_male_tub_polII_rep2',\n",
    "    'A6_whole_male_tub_polII_rep3',\n",
    "    'A7_whole_female_tub_dam_rep1',\n",
    "    'A8_whole_female_tub_dam_rep2',\n",
    "    'A9_whole_female_tub_dam_rep3',\n",
    "    'B1_ovary_tub_dam_rep1',\n",
    "    'B10_testis_tub_polII_rep1',\n",
    "    'B11_testis_tub_polII_rep2',\n",
    "    'B12_testis_tub_polII_rep3',\n",
    "    'B2_ovary_tub_dam_rep2',\n",
    "    'B3_ovary_tub_dam_rep3',\n",
    "    'B4_ovary_tub_polII_rep1',\n",
    "    'B5_ovary_tub_polII_rep2',\n",
    "    'B6_ovary_tub_polII_rep3',\n",
    "    'B7_testis_tub_dam_rep1',\n",
    "    'B8_testis_tub_dam_rep2',\n",
    "    'B9_testis_tub_dam_rep3',\n",
    "]"
   ]
  },
  {
   "cell_type": "markdown",
   "metadata": {},
   "source": [
    "## Calculate md5sum"
   ]
  },
  {
   "cell_type": "code",
   "execution_count": 6,
   "metadata": {},
   "outputs": [],
   "source": [
    "def md5sum(filename, blocksize=65536):\n",
    "    hash = hashlib.md5()\n",
    "    with open(filename, \"rb\") as f:\n",
    "        for block in iter(lambda: f.read(blocksize), b\"\"):\n",
    "            hash.update(block)\n",
    "    return hash.hexdigest()"
   ]
  },
  {
   "cell_type": "markdown",
   "metadata": {},
   "source": [
    "### Read 1 FQ"
   ]
  },
  {
   "cell_type": "code",
   "execution_count": null,
   "metadata": {},
   "outputs": [],
   "source": [
    "res = []\n",
    "for sample in samples:\n",
    "    fname = Path(f'../rnaseq-wf/data/rnaseq_samples/{sample}/{sample}_R1.fastq.gz')\n",
    "    _hash = md5sum(fname)\n",
    "    res.append((fname.name, _hash))\n",
    "\n",
    "df = pd.DataFrame(res, columns=['fname', 'md5sum'])\n",
    "df.set_index('fname')"
   ]
  },
  {
   "cell_type": "markdown",
   "metadata": {},
   "source": [
    "### First Strand BigWig"
   ]
  },
  {
   "cell_type": "code",
   "execution_count": null,
   "metadata": {},
   "outputs": [],
   "source": [
    "res = []\n",
    "for sample in samples:\n",
    "    fname = Path(f'../rnaseq-wf/data/rnaseq_samples/{sample}/{sample}.cutadapt.bam.pos.bigwig')\n",
    "    _hash = md5sum(fname)\n",
    "    res.append((fname.name, _hash))\n",
    "\n",
    "df = pd.DataFrame(res, columns=['fname', 'md5sum'])\n",
    "df.set_index('fname')"
   ]
  },
  {
   "cell_type": "markdown",
   "metadata": {},
   "source": [
    "### Second Strand BigWig"
   ]
  },
  {
   "cell_type": "code",
   "execution_count": null,
   "metadata": {},
   "outputs": [],
   "source": [
    "res = []\n",
    "for sample in samples:\n",
    "    fname = Path(f'../rnaseq-wf/data/rnaseq_samples/{sample}/{sample}.cutadapt.bam.neg.bigwig')\n",
    "    _hash = md5sum(fname)\n",
    "    res.append((fname.name, _hash))\n",
    "\n",
    "df = pd.DataFrame(res, columns=['fname', 'md5sum'])\n",
    "df.set_index('fname')"
   ]
  },
  {
   "cell_type": "markdown",
   "metadata": {},
   "source": [
    "### Genic and ERCC Feature Counts"
   ]
  },
  {
   "cell_type": "code",
   "execution_count": 10,
   "metadata": {},
   "outputs": [
    {
     "data": {
      "text/html": [
       "<div>\n",
       "<style scoped>\n",
       "    .dataframe tbody tr th:only-of-type {\n",
       "        vertical-align: middle;\n",
       "    }\n",
       "\n",
       "    .dataframe tbody tr th {\n",
       "        vertical-align: top;\n",
       "    }\n",
       "\n",
       "    .dataframe thead th {\n",
       "        text-align: right;\n",
       "    }\n",
       "</style>\n",
       "<table border=\"1\" class=\"dataframe\">\n",
       "  <thead>\n",
       "    <tr style=\"text-align: right;\">\n",
       "      <th></th>\n",
       "      <th>md5sum</th>\n",
       "    </tr>\n",
       "    <tr>\n",
       "      <th>fname</th>\n",
       "      <th></th>\n",
       "    </tr>\n",
       "  </thead>\n",
       "  <tbody>\n",
       "    <tr>\n",
       "      <th>B1_FO.cutadapt.bam.featurecounts.s2.txt</th>\n",
       "      <td>50834ac98b438205a2a37ff48cbc13ba</td>\n",
       "    </tr>\n",
       "    <tr>\n",
       "      <th>B2_FO.cutadapt.bam.featurecounts.s2.txt</th>\n",
       "      <td>32a5af0514d9c14409e14dda82bb8c84</td>\n",
       "    </tr>\n",
       "    <tr>\n",
       "      <th>B3_FO.cutadapt.bam.featurecounts.s2.txt</th>\n",
       "      <td>69ba20a136d0576697c7435af246e6ce</td>\n",
       "    </tr>\n",
       "    <tr>\n",
       "      <th>B4_FO.cutadapt.bam.featurecounts.s2.txt</th>\n",
       "      <td>a59b50eb63aaaa37b9fe42704bd1a622</td>\n",
       "    </tr>\n",
       "    <tr>\n",
       "      <th>A5_OF.cutadapt.bam.featurecounts.s2.txt</th>\n",
       "      <td>d792755196617442118174ae4a2ec020</td>\n",
       "    </tr>\n",
       "    <tr>\n",
       "      <th>A6_OF.cutadapt.bam.featurecounts.s2.txt</th>\n",
       "      <td>e1b65991465c74d868367198f7e701f1</td>\n",
       "    </tr>\n",
       "    <tr>\n",
       "      <th>A7_OF.cutadapt.bam.featurecounts.s2.txt</th>\n",
       "      <td>225fff2e5567e03582e94921364ef805</td>\n",
       "    </tr>\n",
       "    <tr>\n",
       "      <th>A8_OF.cutadapt.bam.featurecounts.s2.txt</th>\n",
       "      <td>918a1ffa1add4fa546a098f8c8e08645</td>\n",
       "    </tr>\n",
       "    <tr>\n",
       "      <th>B9_OCP.cutadapt.bam.featurecounts.s2.txt</th>\n",
       "      <td>ee3d8f9462908c25a1e22f9c7f95f5ac</td>\n",
       "    </tr>\n",
       "    <tr>\n",
       "      <th>B10_OCP.cutadapt.bam.featurecounts.s2.txt</th>\n",
       "      <td>23e8bf8cf9db454e63d3ae450d94c30a</td>\n",
       "    </tr>\n",
       "    <tr>\n",
       "      <th>B11_OCP.cutadapt.bam.featurecounts.s2.txt</th>\n",
       "      <td>d61524a70786917cfcb84675d2d2df88</td>\n",
       "    </tr>\n",
       "    <tr>\n",
       "      <th>B12_OCP.cutadapt.bam.featurecounts.s2.txt</th>\n",
       "      <td>a6e41774eccd5a7597a7ee81ac773d55</td>\n",
       "    </tr>\n",
       "    <tr>\n",
       "      <th>F5_ODP.cutadapt.bam.featurecounts.s2.txt</th>\n",
       "      <td>b0ad362c85133189282a2ecf480208ff</td>\n",
       "    </tr>\n",
       "    <tr>\n",
       "      <th>F6_ODP.cutadapt.bam.featurecounts.s2.txt</th>\n",
       "      <td>9fb4a5b6aeef1633df0687dc130738e2</td>\n",
       "    </tr>\n",
       "    <tr>\n",
       "      <th>F7_ODP.cutadapt.bam.featurecounts.s2.txt</th>\n",
       "      <td>112b3e4298cd552e9d2b4c68e9d24c63</td>\n",
       "    </tr>\n",
       "    <tr>\n",
       "      <th>F8_ODP.cutadapt.bam.featurecounts.s2.txt</th>\n",
       "      <td>4f7b445501dcb82bb8f5d4d1168c30fb</td>\n",
       "    </tr>\n",
       "  </tbody>\n",
       "</table>\n",
       "</div>"
      ],
      "text/plain": [
       "                                                                     md5sum\n",
       "fname                                                                      \n",
       "B1_FO.cutadapt.bam.featurecounts.s2.txt    50834ac98b438205a2a37ff48cbc13ba\n",
       "B2_FO.cutadapt.bam.featurecounts.s2.txt    32a5af0514d9c14409e14dda82bb8c84\n",
       "B3_FO.cutadapt.bam.featurecounts.s2.txt    69ba20a136d0576697c7435af246e6ce\n",
       "B4_FO.cutadapt.bam.featurecounts.s2.txt    a59b50eb63aaaa37b9fe42704bd1a622\n",
       "A5_OF.cutadapt.bam.featurecounts.s2.txt    d792755196617442118174ae4a2ec020\n",
       "A6_OF.cutadapt.bam.featurecounts.s2.txt    e1b65991465c74d868367198f7e701f1\n",
       "A7_OF.cutadapt.bam.featurecounts.s2.txt    225fff2e5567e03582e94921364ef805\n",
       "A8_OF.cutadapt.bam.featurecounts.s2.txt    918a1ffa1add4fa546a098f8c8e08645\n",
       "B9_OCP.cutadapt.bam.featurecounts.s2.txt   ee3d8f9462908c25a1e22f9c7f95f5ac\n",
       "B10_OCP.cutadapt.bam.featurecounts.s2.txt  23e8bf8cf9db454e63d3ae450d94c30a\n",
       "B11_OCP.cutadapt.bam.featurecounts.s2.txt  d61524a70786917cfcb84675d2d2df88\n",
       "B12_OCP.cutadapt.bam.featurecounts.s2.txt  a6e41774eccd5a7597a7ee81ac773d55\n",
       "F5_ODP.cutadapt.bam.featurecounts.s2.txt   b0ad362c85133189282a2ecf480208ff\n",
       "F6_ODP.cutadapt.bam.featurecounts.s2.txt   9fb4a5b6aeef1633df0687dc130738e2\n",
       "F7_ODP.cutadapt.bam.featurecounts.s2.txt   112b3e4298cd552e9d2b4c68e9d24c63\n",
       "F8_ODP.cutadapt.bam.featurecounts.s2.txt   4f7b445501dcb82bb8f5d4d1168c30fb"
      ]
     },
     "execution_count": 10,
     "metadata": {},
     "output_type": "execute_result"
    }
   ],
   "source": [
    "res = []\n",
    "for sample in samples:\n",
    "    fname = Path(f'../bulk-wf/data/rnaseq_samples/{sample}/{sample}.cutadapt.bam.featurecounts.s2.txt')\n",
    "    _hash = md5sum(fname)\n",
    "    res.append((fname.name, _hash))\n",
    "\n",
    "df = pd.DataFrame(res, columns=['fname', 'md5sum'])\n",
    "df.set_index('fname')"
   ]
  },
  {
   "cell_type": "markdown",
   "metadata": {},
   "source": [
    "### Intergenic Feature Counts"
   ]
  },
  {
   "cell_type": "code",
   "execution_count": 12,
   "metadata": {},
   "outputs": [
    {
     "data": {
      "text/html": [
       "<div>\n",
       "<style scoped>\n",
       "    .dataframe tbody tr th:only-of-type {\n",
       "        vertical-align: middle;\n",
       "    }\n",
       "\n",
       "    .dataframe tbody tr th {\n",
       "        vertical-align: top;\n",
       "    }\n",
       "\n",
       "    .dataframe thead th {\n",
       "        text-align: right;\n",
       "    }\n",
       "</style>\n",
       "<table border=\"1\" class=\"dataframe\">\n",
       "  <thead>\n",
       "    <tr style=\"text-align: right;\">\n",
       "      <th></th>\n",
       "      <th>md5sum</th>\n",
       "    </tr>\n",
       "    <tr>\n",
       "      <th>fname</th>\n",
       "      <th></th>\n",
       "    </tr>\n",
       "  </thead>\n",
       "  <tbody>\n",
       "    <tr>\n",
       "      <th>B1_FO.cutadapt.bam.featurecounts.intergenic.s0.txt</th>\n",
       "      <td>d7caf634f6c7ebc36c9ed5200248be29</td>\n",
       "    </tr>\n",
       "    <tr>\n",
       "      <th>B2_FO.cutadapt.bam.featurecounts.intergenic.s0.txt</th>\n",
       "      <td>241b1d38d12e90a96cd0ee585643409d</td>\n",
       "    </tr>\n",
       "    <tr>\n",
       "      <th>B3_FO.cutadapt.bam.featurecounts.intergenic.s0.txt</th>\n",
       "      <td>1a0d3896eb079d108a24a0904dc83aa2</td>\n",
       "    </tr>\n",
       "    <tr>\n",
       "      <th>B4_FO.cutadapt.bam.featurecounts.intergenic.s0.txt</th>\n",
       "      <td>5f49480f4718bdbe7e04b9cff2c1f8cc</td>\n",
       "    </tr>\n",
       "    <tr>\n",
       "      <th>A5_OF.cutadapt.bam.featurecounts.intergenic.s0.txt</th>\n",
       "      <td>97f6b149d354187f7a5cd659b13eef70</td>\n",
       "    </tr>\n",
       "    <tr>\n",
       "      <th>A6_OF.cutadapt.bam.featurecounts.intergenic.s0.txt</th>\n",
       "      <td>5c7b0afb8233d569d78bdd2ce0189f39</td>\n",
       "    </tr>\n",
       "    <tr>\n",
       "      <th>A7_OF.cutadapt.bam.featurecounts.intergenic.s0.txt</th>\n",
       "      <td>8144a6afa61a71e0437e02b053b76bdc</td>\n",
       "    </tr>\n",
       "    <tr>\n",
       "      <th>A8_OF.cutadapt.bam.featurecounts.intergenic.s0.txt</th>\n",
       "      <td>2740d6f160bb09a1a234fdc3358655ee</td>\n",
       "    </tr>\n",
       "    <tr>\n",
       "      <th>B9_OCP.cutadapt.bam.featurecounts.intergenic.s0.txt</th>\n",
       "      <td>0d2a90e0493b08d43dd4bf1711676a4e</td>\n",
       "    </tr>\n",
       "    <tr>\n",
       "      <th>B10_OCP.cutadapt.bam.featurecounts.intergenic.s0.txt</th>\n",
       "      <td>48661a5cb4341e072d9b54377c8f9e16</td>\n",
       "    </tr>\n",
       "    <tr>\n",
       "      <th>B11_OCP.cutadapt.bam.featurecounts.intergenic.s0.txt</th>\n",
       "      <td>b2096d2f882895016a66dde9669b97ee</td>\n",
       "    </tr>\n",
       "    <tr>\n",
       "      <th>B12_OCP.cutadapt.bam.featurecounts.intergenic.s0.txt</th>\n",
       "      <td>80718410f286ec074f5c27c31e74398b</td>\n",
       "    </tr>\n",
       "    <tr>\n",
       "      <th>F5_ODP.cutadapt.bam.featurecounts.intergenic.s0.txt</th>\n",
       "      <td>ab40ba547a76ffec5682a064d230637c</td>\n",
       "    </tr>\n",
       "    <tr>\n",
       "      <th>F6_ODP.cutadapt.bam.featurecounts.intergenic.s0.txt</th>\n",
       "      <td>bb53612850e375bee2da09237a0b04c7</td>\n",
       "    </tr>\n",
       "    <tr>\n",
       "      <th>F7_ODP.cutadapt.bam.featurecounts.intergenic.s0.txt</th>\n",
       "      <td>ec8a524344d045209d673bba220f9adf</td>\n",
       "    </tr>\n",
       "    <tr>\n",
       "      <th>F8_ODP.cutadapt.bam.featurecounts.intergenic.s0.txt</th>\n",
       "      <td>e406ed446c0e5b8d12e62da514f9d546</td>\n",
       "    </tr>\n",
       "  </tbody>\n",
       "</table>\n",
       "</div>"
      ],
      "text/plain": [
       "                                                                              md5sum\n",
       "fname                                                                               \n",
       "B1_FO.cutadapt.bam.featurecounts.intergenic.s0.txt  d7caf634f6c7ebc36c9ed5200248be29\n",
       "B2_FO.cutadapt.bam.featurecounts.intergenic.s0.txt  241b1d38d12e90a96cd0ee585643409d\n",
       "B3_FO.cutadapt.bam.featurecounts.intergenic.s0.txt  1a0d3896eb079d108a24a0904dc83aa2\n",
       "B4_FO.cutadapt.bam.featurecounts.intergenic.s0.txt  5f49480f4718bdbe7e04b9cff2c1f8cc\n",
       "A5_OF.cutadapt.bam.featurecounts.intergenic.s0.txt  97f6b149d354187f7a5cd659b13eef70\n",
       "A6_OF.cutadapt.bam.featurecounts.intergenic.s0.txt  5c7b0afb8233d569d78bdd2ce0189f39\n",
       "A7_OF.cutadapt.bam.featurecounts.intergenic.s0.txt  8144a6afa61a71e0437e02b053b76bdc\n",
       "A8_OF.cutadapt.bam.featurecounts.intergenic.s0.txt  2740d6f160bb09a1a234fdc3358655ee\n",
       "B9_OCP.cutadapt.bam.featurecounts.intergenic.s0...  0d2a90e0493b08d43dd4bf1711676a4e\n",
       "B10_OCP.cutadapt.bam.featurecounts.intergenic.s...  48661a5cb4341e072d9b54377c8f9e16\n",
       "B11_OCP.cutadapt.bam.featurecounts.intergenic.s...  b2096d2f882895016a66dde9669b97ee\n",
       "B12_OCP.cutadapt.bam.featurecounts.intergenic.s...  80718410f286ec074f5c27c31e74398b\n",
       "F5_ODP.cutadapt.bam.featurecounts.intergenic.s0...  ab40ba547a76ffec5682a064d230637c\n",
       "F6_ODP.cutadapt.bam.featurecounts.intergenic.s0...  bb53612850e375bee2da09237a0b04c7\n",
       "F7_ODP.cutadapt.bam.featurecounts.intergenic.s0...  ec8a524344d045209d673bba220f9adf\n",
       "F8_ODP.cutadapt.bam.featurecounts.intergenic.s0...  e406ed446c0e5b8d12e62da514f9d546"
      ]
     },
     "execution_count": 12,
     "metadata": {},
     "output_type": "execute_result"
    }
   ],
   "source": [
    "res = []\n",
    "for sample in samples:\n",
    "    fname = Path(f'../bulk-wf/data/rnaseq_samples/{sample}/{sample}.cutadapt.bam.featurecounts.intergenic.s0.txt')\n",
    "    _hash = md5sum(fname)\n",
    "    res.append((fname.name, _hash))\n",
    "\n",
    "df = pd.DataFrame(res, columns=['fname', 'md5sum'])\n",
    "df.set_index('fname')"
   ]
  },
  {
   "cell_type": "markdown",
   "metadata": {},
   "source": [
    "## Copy Files to Single Folder"
   ]
  },
  {
   "cell_type": "code",
   "execution_count": 13,
   "metadata": {},
   "outputs": [],
   "source": [
    "paths = []\n",
    "for sample in samples:\n",
    "    paths.extend([\n",
    "        Path(f'../bulk-wf/data/rnaseq_samples/{sample}/{sample}_R1.fastq.gz'),\n",
    "        Path(f'../bulk-wf/data/rnaseq_samples/{sample}/{sample}.cutadapt.bam.pos.bigwig'),\n",
    "        Path(f'../bulk-wf/data/rnaseq_samples/{sample}/{sample}.cutadapt.bam.neg.bigwig'),\n",
    "        Path(f'../bulk-wf/data/rnaseq_samples/{sample}/{sample}.cutadapt.bam.featurecounts.s2.txt'),\n",
    "        Path(f'../bulk-wf/data/rnaseq_samples/{sample}/{sample}.cutadapt.bam.featurecounts.intergenic.s0.txt')\n",
    "    ])"
   ]
  },
  {
   "cell_type": "code",
   "execution_count": 14,
   "metadata": {},
   "outputs": [],
   "source": [
    "def copy_file(path):\n",
    "    new = Path('/media/psf/Promise_Pegasus/fearjm/larval_gonad_ovary/justin.fear@nih.gov', path.name)\n",
    "    shutil.copy(path, new)\n",
    "    oldmd5 = md5sum(path)\n",
    "    newmd5 = md5sum(new)\n",
    "    try:\n",
    "        assert oldmd5 == newmd5\n",
    "    except AssertionError:\n",
    "        new.unlink()\n",
    "        print(f'Error with copying {path.name}')"
   ]
  },
  {
   "cell_type": "code",
   "execution_count": 15,
   "metadata": {},
   "outputs": [],
   "source": [
    "for path in paths:\n",
    "    copy_file(path)"
   ]
  },
  {
   "cell_type": "code",
   "execution_count": null,
   "metadata": {},
   "outputs": [],
   "source": []
  }
 ],
 "metadata": {
  "kernelspec": {
   "display_name": "Python [conda env:tada_rnaseq]",
   "language": "python",
   "name": "conda-env-tada_rnaseq-py"
  },
  "language_info": {
   "codemirror_mode": {
    "name": "ipython",
    "version": 3
   },
   "file_extension": ".py",
   "mimetype": "text/x-python",
   "name": "python",
   "nbconvert_exporter": "python",
   "pygments_lexer": "ipython3",
   "version": "3.6.5"
  }
 },
 "nbformat": 4,
 "nbformat_minor": 2
}
